{
 "cells": [
  {
   "cell_type": "markdown",
   "id": "d7af987c",
   "metadata": {},
   "source": [
    "## Import libs"
   ]
  },
  {
   "cell_type": "code",
   "execution_count": 1,
   "id": "942b7cd1",
   "metadata": {},
   "outputs": [],
   "source": [
    "#import libraries\n",
    "%matplotlib inline\n",
    "import numpy as np\n",
    "import matplotlib.pyplot as plt\n",
    "import pandas as pd\n",
    "import warnings\n",
    "warnings.filterwarnings(\"ignore\")"
   ]
  },
  {
   "cell_type": "markdown",
   "id": "adeace8a",
   "metadata": {},
   "source": [
    "## Load Raw CSV and replace Nan values with 0"
   ]
  },
  {
   "cell_type": "code",
   "execution_count": 3,
   "id": "9445b51e",
   "metadata": {},
   "outputs": [
    {
     "data": {
      "text/html": [
       "<div>\n",
       "<style scoped>\n",
       "    .dataframe tbody tr th:only-of-type {\n",
       "        vertical-align: middle;\n",
       "    }\n",
       "\n",
       "    .dataframe tbody tr th {\n",
       "        vertical-align: top;\n",
       "    }\n",
       "\n",
       "    .dataframe thead th {\n",
       "        text-align: right;\n",
       "    }\n",
       "</style>\n",
       "<table border=\"1\" class=\"dataframe\">\n",
       "  <thead>\n",
       "    <tr style=\"text-align: right;\">\n",
       "      <th></th>\n",
       "      <th>Symbol</th>\n",
       "      <th>ETF Name</th>\n",
       "      <th>ESG Score</th>\n",
       "      <th>ESG Score Peer Percentile (%)</th>\n",
       "      <th>ESG Score Global Percentile (%)</th>\n",
       "      <th>Carbon Intensity (Tons of CO2e / $M Sales)</th>\n",
       "      <th>Sustainable Impact Solutions (%)</th>\n",
       "    </tr>\n",
       "  </thead>\n",
       "  <tbody>\n",
       "    <tr>\n",
       "      <th>0</th>\n",
       "      <td>SPY</td>\n",
       "      <td>SPDR S&amp;P 500 ETF Trust</td>\n",
       "      <td>8.06</td>\n",
       "      <td>68.18%</td>\n",
       "      <td>71.77%</td>\n",
       "      <td>150.02</td>\n",
       "      <td>5.65%</td>\n",
       "    </tr>\n",
       "    <tr>\n",
       "      <th>1</th>\n",
       "      <td>IVV</td>\n",
       "      <td>iShares Core S&amp;P 500 ETF</td>\n",
       "      <td>8.06</td>\n",
       "      <td>67.75%</td>\n",
       "      <td>71.67%</td>\n",
       "      <td>150.12</td>\n",
       "      <td>5.64%</td>\n",
       "    </tr>\n",
       "    <tr>\n",
       "      <th>2</th>\n",
       "      <td>VTI</td>\n",
       "      <td>Vanguard Total Stock Market ETF</td>\n",
       "      <td>7.68</td>\n",
       "      <td>36.83%</td>\n",
       "      <td>62.54%</td>\n",
       "      <td>150.27</td>\n",
       "      <td>5.79%</td>\n",
       "    </tr>\n",
       "    <tr>\n",
       "      <th>3</th>\n",
       "      <td>VOO</td>\n",
       "      <td>Vanguard S&amp;P 500 ETF</td>\n",
       "      <td>8.06</td>\n",
       "      <td>67.40%</td>\n",
       "      <td>71.62%</td>\n",
       "      <td>150.21</td>\n",
       "      <td>5.63%</td>\n",
       "    </tr>\n",
       "    <tr>\n",
       "      <th>4</th>\n",
       "      <td>QQQ</td>\n",
       "      <td>Invesco QQQ Trust</td>\n",
       "      <td>7.99</td>\n",
       "      <td>59.66%</td>\n",
       "      <td>69.84%</td>\n",
       "      <td>54.57</td>\n",
       "      <td>7.53%</td>\n",
       "    </tr>\n",
       "  </tbody>\n",
       "</table>\n",
       "</div>"
      ],
      "text/plain": [
       "  Symbol                         ETF Name  ESG Score  \\\n",
       "0    SPY           SPDR S&P 500 ETF Trust       8.06   \n",
       "1    IVV         iShares Core S&P 500 ETF       8.06   \n",
       "2    VTI  Vanguard Total Stock Market ETF       7.68   \n",
       "3    VOO             Vanguard S&P 500 ETF       8.06   \n",
       "4    QQQ                Invesco QQQ Trust       7.99   \n",
       "\n",
       "  ESG Score Peer Percentile (%) ESG Score Global Percentile (%)  \\\n",
       "0                        68.18%                          71.77%   \n",
       "1                        67.75%                          71.67%   \n",
       "2                        36.83%                          62.54%   \n",
       "3                        67.40%                          71.62%   \n",
       "4                        59.66%                          69.84%   \n",
       "\n",
       "   Carbon Intensity (Tons of CO2e / $M Sales) Sustainable Impact Solutions (%)  \n",
       "0                                      150.02                            5.65%  \n",
       "1                                      150.12                            5.64%  \n",
       "2                                      150.27                            5.79%  \n",
       "3                                      150.21                            5.63%  \n",
       "4                                       54.57                            7.53%  "
      ]
     },
     "execution_count": 3,
     "metadata": {},
     "output_type": "execute_result"
    }
   ],
   "source": []
  },
  {
   "cell_type": "code",
   "execution_count": 2,
   "id": "91579bac",
   "metadata": {},
   "outputs": [
    {
     "name": "stdout",
     "output_type": "stream",
     "text": [
      "(6472, 657)\n",
      "(1633, 2)\n"
     ]
    },
    {
     "data": {
      "text/html": [
       "<div>\n",
       "<style scoped>\n",
       "    .dataframe tbody tr th:only-of-type {\n",
       "        vertical-align: middle;\n",
       "    }\n",
       "\n",
       "    .dataframe tbody tr th {\n",
       "        vertical-align: top;\n",
       "    }\n",
       "\n",
       "    .dataframe thead th {\n",
       "        text-align: right;\n",
       "    }\n",
       "</style>\n",
       "<table border=\"1\" class=\"dataframe\">\n",
       "  <thead>\n",
       "    <tr style=\"text-align: right;\">\n",
       "      <th></th>\n",
       "      <th>Symbol</th>\n",
       "      <th>ESG Score</th>\n",
       "    </tr>\n",
       "  </thead>\n",
       "  <tbody>\n",
       "    <tr>\n",
       "      <th>0</th>\n",
       "      <td>SPY</td>\n",
       "      <td>8.06</td>\n",
       "    </tr>\n",
       "    <tr>\n",
       "      <th>1</th>\n",
       "      <td>IVV</td>\n",
       "      <td>8.06</td>\n",
       "    </tr>\n",
       "    <tr>\n",
       "      <th>2</th>\n",
       "      <td>VTI</td>\n",
       "      <td>7.68</td>\n",
       "    </tr>\n",
       "    <tr>\n",
       "      <th>3</th>\n",
       "      <td>VOO</td>\n",
       "      <td>8.06</td>\n",
       "    </tr>\n",
       "    <tr>\n",
       "      <th>4</th>\n",
       "      <td>QQQ</td>\n",
       "      <td>7.99</td>\n",
       "    </tr>\n",
       "  </tbody>\n",
       "</table>\n",
       "</div>"
      ],
      "text/plain": [
       "  Symbol  ESG Score\n",
       "0    SPY       8.06\n",
       "1    IVV       8.06\n",
       "2    VTI       7.68\n",
       "3    VOO       8.06\n",
       "4    QQQ       7.99"
      ]
     },
     "execution_count": 2,
     "metadata": {},
     "output_type": "execute_result"
    }
   ],
   "source": [
    "df_timeseries = pd.read_csv('MASTERDATASET.csv', sep=\",\", index_col=False)\n",
    "df_ESG = pd.read_csv('ESGSCORES.csv', index_col=False,usecols=[0,2])\n",
    "\n",
    "df_timeseries = df_timeseries.replace(np.nan,0)\n",
    "df_ESG = df_ESG.replace(np.nan,0)\n",
    "\n",
    "print(df_timeseries.shape)\n",
    "print(df_ESG.shape)\n",
    "df_ESG.head()"
   ]
  },
  {
   "cell_type": "markdown",
   "id": "99b394e2",
   "metadata": {},
   "source": [
    "## Drop ETFs that do not have ESG scores"
   ]
  },
  {
   "cell_type": "code",
   "execution_count": 17,
   "id": "782817e8",
   "metadata": {},
   "outputs": [
    {
     "name": "stdout",
     "output_type": "stream",
     "text": [
      "Rows:  6472\n",
      "Columns:  321\n"
     ]
    }
   ],
   "source": [
    "Columns=656\n",
    "assetLabels_timeseries = df_timeseries.columns[0:Columns+1].tolist()\n",
    "assetLabels_ESG = df_ESG['Symbol'].tolist()\n",
    "\n",
    "df = df_timeseries\n",
    "\n",
    "df_assetLabels_timeseries=pd.DataFrame(assetLabels_timeseries,columns=[\"Symbol\"])\n",
    "df_assetLabels_ESG=pd.DataFrame(assetLabels_ESG,columns=[\"Symbol\"])\n",
    "df_assetLabels= pd.concat([df_assetLabels_timeseries, df_assetLabels_ESG],axis= 0)\n",
    "\n",
    "df_assetLabels=df_assetLabels[df_assetLabels[['Symbol']].duplicated() == True]\n",
    "df_assetLabels=df_assetLabels.drop_duplicates()\n",
    "\n",
    "ds=df_assetLabels['Symbol']\n",
    "ds=np.append(ds,'Row Labels')\n",
    "\n",
    "df=df.loc[:, df.columns.isin(ds)]\n",
    "\n",
    "ETFs=df_assetLabels['Symbol']\n",
    "\n",
    "Rows=df.shape[0]\n",
    "Columns=df.shape[1]\n",
    "print(\"Rows: \",Rows)\n",
    "print(\"Columns: \", Columns)"
   ]
  },
  {
   "cell_type": "markdown",
   "id": "26a53419",
   "metadata": {},
   "source": [
    "## Replace 0 values with mean stock price value"
   ]
  },
  {
   "cell_type": "code",
   "execution_count": 18,
   "id": "b7b217ad",
   "metadata": {},
   "outputs": [],
   "source": [
    "df.replace(0,df.mean(axis=0),inplace=True)\n",
    "df.head()\n",
    "df.to_csv('out.csv')"
   ]
  }
 ],
 "metadata": {
  "kernelspec": {
   "display_name": "Python 3 (ipykernel)",
   "language": "python",
   "name": "python3"
  },
  "language_info": {
   "codemirror_mode": {
    "name": "ipython",
    "version": 3
   },
   "file_extension": ".py",
   "mimetype": "text/x-python",
   "name": "python",
   "nbconvert_exporter": "python",
   "pygments_lexer": "ipython3",
   "version": "3.9.12"
  }
 },
 "nbformat": 4,
 "nbformat_minor": 5
}
